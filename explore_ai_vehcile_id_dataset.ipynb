{
  "nbformat": 4,
  "nbformat_minor": 0,
  "metadata": {
    "colab": {
      "provenance": []
    },
    "kernelspec": {
      "name": "python3",
      "display_name": "Python 3"
    },
    "language_info": {
      "name": "python"
    }
  },
  "cells": [
    {
      "cell_type": "code",
      "source": [
        "!pip -q install gdown"
      ],
      "metadata": {
        "id": "vBhispAaP1wS"
      },
      "execution_count": 12,
      "outputs": []
    },
    {
      "cell_type": "code",
      "source": [
        "import gdown\n",
        "\n",
        "share_link = \"https://drive.google.com/file/d/1o8ZxFqylNY37aoDljaFLhQDxv_iu9PdI/view?usp=drive_link\"\n",
        "file_id = share_link.split('/d/')[1].split('/view')[0]\n",
        "gdown.download(f\"https://drive.google.com/uc?id={file_id}\", \"ai-vehicle-id-dataset.zip\", quiet=False)\n"
      ],
      "metadata": {
        "colab": {
          "base_uri": "https://localhost:8080/",
          "height": 142
        },
        "id": "3_XVPuiAP6VO",
        "outputId": "5b606636-df83-4d5b-8389-7e949eebf7e8"
      },
      "execution_count": 9,
      "outputs": [
        {
          "output_type": "stream",
          "name": "stderr",
          "text": [
            "Downloading...\n",
            "From (original): https://drive.google.com/uc?id=1o8ZxFqylNY37aoDljaFLhQDxv_iu9PdI\n",
            "From (redirected): https://drive.google.com/uc?id=1o8ZxFqylNY37aoDljaFLhQDxv_iu9PdI&confirm=t&uuid=8012d4a7-bdd9-40af-b548-d9a892a5cfb9\n",
            "To: /content/large_archive.zip\n",
            "100%|██████████| 2.06G/2.06G [00:41<00:00, 50.3MB/s]\n"
          ]
        },
        {
          "output_type": "execute_result",
          "data": {
            "text/plain": [
              "'large_archive.zip'"
            ],
            "application/vnd.google.colaboratory.intrinsic+json": {
              "type": "string"
            }
          },
          "metadata": {},
          "execution_count": 9
        }
      ]
    },
    {
      "cell_type": "code",
      "source": [
        "# Unpack /content/ai-vehicle-id-dataset.zip into /content. Remove /content/__MACOSX folder.\n",
        "\n",
        "import zipfile\n",
        "import shutil\n",
        "import os\n",
        "\n",
        "print(\"Unpacking dataset into /content/\")\n",
        "\n",
        "with zipfile.ZipFile('/content/ai-vehicle-id-dataset.zip', 'r') as zip_ref:\n",
        "    zip_ref.extractall('/content')\n",
        "\n",
        "try:\n",
        "  shutil.rmtree('/content/__MACOSX')\n",
        "except FileNotFoundError:\n",
        "  print(\"'/content/__MACOSX' not found, skipping removal.\")"
      ],
      "metadata": {
        "id": "be0KFC2QQdH1"
      },
      "execution_count": 10,
      "outputs": []
    },
    {
      "cell_type": "code",
      "source": [
        "# Display Dataset Description from /content/README.md\n",
        "\n",
        "from IPython.display import Markdown\n",
        "\n",
        "with open('/content/README.md', 'r') as f:\n",
        "  md_content = f.read()\n",
        "\n",
        "display(Markdown(md_content))"
      ],
      "metadata": {
        "colab": {
          "base_uri": "https://localhost:8080/",
          "height": 1000
        },
        "id": "Ct7J-q0hRjDq",
        "outputId": "b4a7ff1b-4052-4176-b10b-aa2d1fd08b55"
      },
      "execution_count": 14,
      "outputs": [
        {
          "output_type": "display_data",
          "data": {
            "text/plain": [
              "<IPython.core.display.Markdown object>"
            ],
            "text/markdown": "# AI Vehicle Identification Datasets\n\nDataset Folder Structure\n\n```\n/train\n  /cab\n  /convertible\n  /coupe\n  /hatchback\n  /minivan\n  /Negative\n  /sedan\n  /suv\n  /truck\n  /van\n  /wagon\n/val\n  /cab\n  /convertible\n  /coupe\n  /hatchback\n  /minivan\n  /Negative\n  /sedan\n  /suv\n  /truck\n  /van\n  /wagon  \n \n```\n\nDataset Contents\n\n* Image counts in train folders:\n\t\n\t* sedan: 1907\n\t* van: 291\n\t* suv: 1437\n\t* Negative: 200\n\t* truck: 347\n\t* cab: 719\n\t* hatchback: 554\n\t* coupe: 1054\n\t* minivan: 250\n\t* convertible: 1036\n\t* wagon: 253\n\t\n* Image counts in validation folders:\n\t\n\t* sedan: 1880\n\t* van: 287\n\t* suv: 1418\n\t* Negative: 79\n\t* truck: 240\n\t* cab: 711\n\t* hatchback: 549\n\t* coupe: 1042\n\t* minivan: 248\n\t* convertible: 1022\n\t* wagon: 250\n\nThe images were sourced from the following datasets:\n\n* Car Images - Standford Cars Dataset\n\t* Image Files - Download via KaggleHub - Dataset Name: jutrera/stanford-car-dataset-by-classes-folder\n\n\t\t```\n\t\timport kagglehub\n\t\t\n\t\t# Download latest version\n\t\tpath = kagglehub.dataset_download(\"jutrera/stanford-car-dataset-by-classes-folder\")\n\t\t\n\t\tprint(\"Path to dataset files:\", path)\n\t\t```\n\n\t* Dataset Description [Standford Cars Dataset](https://www.kaggle.com/datasets/jutrera/stanford-car-dataset-by-classes-folder/data)\n\t* License [ImageNet License](https://www.image-net.org/download.php)\n* Truck Images - Images.CV - Trucks Dataset\n\t* Image Files [Images.CV Trucks Dataset](https://images.cv/dataset/truck-image-classification-dataset) \n\t* License [Various Licenses - No Specific License Specified](https://images.cv/datasets-licenses)\n* Negative Images - BG-20K Datset of Backgrounds\n\t* Image Files [BG-20K Google Drive](https://drive.google.com/drive/folders/1ZBaMJxZtUNHIuGj8D8v3B9Adn8dbHwSS)\n\t* Dataset Description [BG-20K GitHub](https://github.com/JizhiziLi/GFM?tab=readme-ov-file#bg-20k)\n\t* Usage Agreement [Dataset Agreement](https://jizhizili.github.io/files/gfm_datasets_agreements/BG-20k_Dataset_Release_Agreement.pdf)\n\t* License [MIT License](https://github.com/JizhiziLi/GFM/blob/master/LICENSE)\n\n"
          },
          "metadata": {}
        }
      ]
    }
  ]
}